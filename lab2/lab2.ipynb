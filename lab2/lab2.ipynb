{
 "cells": [
  {
   "cell_type": "code",
   "execution_count": 440,
   "metadata": {
    "collapsed": true
   },
   "outputs": [],
   "source": [
    "import logging\n",
    "import random\n",
    "import itertools\n",
    "from collections import OrderedDict\n",
    "from collections import namedtuple\n",
    "from operator import index\n",
    "import random\n",
    "from matplotlib import pyplot as plt\n",
    "from random import randrange"
   ]
  },
  {
   "cell_type": "code",
   "execution_count": 441,
   "outputs": [],
   "source": [
    "def problem(N, seed=None):\n",
    "    random.seed(seed)\n",
    "    return [\n",
    "        list(set(random.randint(0, N - 1) for n in range(random.randint(N // 5, N // 2))))\n",
    "        for n in range(random.randint(N, N * 5))\n",
    "    ]\n",
    "\n",
    "\n",
    "def TotalLength(genome):\n",
    "    ConvertToList = [j for i in genome for j in i]\n",
    "    if len(ConvertToList)==0:\n",
    "        return 0, 0\n",
    "    return len(set(ConvertToList)), len(ConvertToList)\n",
    "\n",
    "\n",
    "def GenerationPupulation(PROBLEM_SPACE, PopulationSize, N):\n",
    "    population = []\n",
    "\n",
    "    for i in range(PopulationSize):\n",
    "        # select the sets size of the population\n",
    "        listSize = randrange(N*2)\n",
    "        selectedTupels = set()\n",
    "        for j in range(listSize):\n",
    "            selectedTupels.add(PROBLEM_SPACE[randrange(len(PROBLEM_SPACE) - 1)])\n",
    "        if len(selectedTupels) != 0:\n",
    "            population.append(Individual(selectedTupels, TotalLength(selectedTupels)))\n",
    "    return population\n",
    "\n",
    "\n",
    "def tournament(population, tournament_size=2):\n",
    "    return sorted(random.choices(population, k=tournament_size), key=lambda i: (-i.fitness[0], i.fitness[1]))[0]\n",
    "\n",
    "\n",
    "def cross_over(g1, g2):\n",
    "    p1cut = random.randint(0, len(g1.genome))\n",
    "    p2cut = random.randint(0, len(g2.genome))\n",
    "    g1 = [j for i in g1 for j in i][:-2]\n",
    "    g2 = [j for i in g2 for j in i][:-2]\n",
    "    son = g1[:p1cut] + g2[p2cut:]\n",
    "    return set(son)"
   ],
   "metadata": {
    "collapsed": false
   }
  },
  {
   "cell_type": "code",
   "execution_count": 442,
   "outputs": [],
   "source": [
    "logging.getLogger().setLevel(logging.INFO)"
   ],
   "metadata": {
    "collapsed": false
   }
  },
  {
   "cell_type": "code",
   "execution_count": 443,
   "outputs": [
    {
     "name": "stderr",
     "output_type": "stream",
     "text": [
      "INFO:root:GE solution for N=5: w=5 (bloat=0%)\n",
      "INFO:root:GE solution for N=10: w=10 (bloat=0%)\n",
      "INFO:root:GE solution for N=20: w=24 (bloat=20%)\n",
      "INFO:root:GE solution for N=100: w=185 (bloat=85%)\n",
      "INFO:root:GE solution for N=500: w=1590 (bloat=218%)\n",
      "INFO:root:GE solution for N=1000: w=3559 (bloat=256%)\n"
     ]
    }
   ],
   "source": [
    "SEED = 42\n",
    "N = [5, 10, 20, 100, 500, 1000]\n",
    "for SetCount in N:\n",
    "    PROBLEM_SPACE = list(set(tuple(i) for i in problem(SetCount, seed=SEED)))\n",
    "    # N -> POPULATION_SIZE, OFFSPRING_SIZE, NUM_GENERATIONS\n",
    "    # 5 -> 80, 100, 100\n",
    "    # 10 -> 80, 100, 200\n",
    "    # 20 -> 80, 100, 1000\n",
    "    # 100 -> 80, 100, 1000\n",
    "    # 500 -> 80, 100, 1000\n",
    "    # 1000 -> 80, 100, 1000\n",
    "    NUM_GENERATIONS = 1000\n",
    "    OFFSPRING_SIZE = 100\n",
    "    POPULATION_SIZE =  80\n",
    "    Individual = namedtuple(\"Individual\", [\"genome\", \"fitness\"])\n",
    "    pupulation = GenerationPupulation(PROBLEM_SPACE, 80, SetCount)\n",
    "    mutationRate = 30\n",
    "    for g in range(NUM_GENERATIONS):\n",
    "        offspring = list()\n",
    "        for i in range(OFFSPRING_SIZE):\n",
    "            if g % mutationRate == 0:\n",
    "                    p1 = tournament(pupulation)\n",
    "                    p1.genome.add(PROBLEM_SPACE[randrange(len(PROBLEM_SPACE) - 1)])\n",
    "                    offspring.append(Individual(p1.genome, TotalLength(p1.genome)))\n",
    "\n",
    "            else:\n",
    "                p1 = tournament(pupulation)\n",
    "                p2 = tournament(pupulation)\n",
    "                selectedTupels = cross_over(p1, p2)\n",
    "                offspring.append(Individual(selectedTupels, TotalLength(selectedTupels)))\n",
    "        pupulation += offspring\n",
    "        pupulation = sorted(pupulation, key=lambda i: (-i.fitness[0], i.fitness[1]))[:POPULATION_SIZE]\n",
    "\n",
    "    individual = pupulation[0]\n",
    "    w = individual.fitness[1]\n",
    "    logging.info(\n",
    "        f\"GE solution for N={SetCount}: w={w} (bloat={(w - SetCount) / SetCount * 100:.0f}%)\"\n",
    "    )"
   ],
   "metadata": {
    "collapsed": false
   }
  },
  {
   "cell_type": "code",
   "execution_count": 443,
   "outputs": [],
   "source": [],
   "metadata": {
    "collapsed": false
   }
  },
  {
   "cell_type": "code",
   "execution_count": 443,
   "outputs": [],
   "source": [],
   "metadata": {
    "collapsed": false
   }
  }
 ],
 "metadata": {
  "kernelspec": {
   "display_name": "Python 3",
   "language": "python",
   "name": "python3"
  },
  "language_info": {
   "codemirror_mode": {
    "name": "ipython",
    "version": 2
   },
   "file_extension": ".py",
   "mimetype": "text/x-python",
   "name": "python",
   "nbconvert_exporter": "python",
   "pygments_lexer": "ipython2",
   "version": "2.7.6"
  }
 },
 "nbformat": 4,
 "nbformat_minor": 0
}
